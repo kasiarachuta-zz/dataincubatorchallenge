{
 "cells": [
  {
   "cell_type": "code",
   "execution_count": 1,
   "metadata": {
    "collapsed": false
   },
   "outputs": [],
   "source": [
    "import pandas as pd\n",
    "import requests\n",
    "import json\n",
    "import scipy.stats\n",
    "import matplotlib.pyplot as plt\n",
    "import matplotlib\n",
    "%matplotlib inline "
   ]
  },
  {
   "cell_type": "code",
   "execution_count": 2,
   "metadata": {
    "collapsed": false
   },
   "outputs": [],
   "source": [
    "# This file has the age on the first marriage of a woman in 2015. Source: Gapminder (http://www.gapminder.org/data/).\n",
    "\n",
    "agemarriage = pd.read_csv(\"agemarriage.csv\")\n",
    "agemarriage.columns = 'Country', 'Age married'"
   ]
  },
  {
   "cell_type": "code",
   "execution_count": 8,
   "metadata": {
    "collapsed": false
   },
   "outputs": [],
   "source": [
    "# I now want to see how the age at first marriage compares with life exptectancy for women.\n",
    "response = requests.get(\"http://api.worldbank.org/countries/indicators/SP.DYN.LE00.FE.IN?per_page=250&date=2005:2005&format=json\")\n",
    "data = response.json()\n",
    "df = pd.read_json(json.dumps(data[1]))\n",
    "# I need to clean the DataFrame, as per usual\n",
    "df['country_cleaned'] = pd.DataFrame(map(lambda x: x['value'], list(df['country'])))\n",
    "df['indicator_cleaned'] = pd.DataFrame(map(lambda x: x['value'], list(df['indicator'])))\n",
    "df.head()\n",
    "lifeexpect = df[['country_cleaned', 'value']]\n",
    "lifeexpect.columns = 'Country', 'Life Expectancy'"
   ]
  },
  {
   "cell_type": "code",
   "execution_count": 11,
   "metadata": {
    "collapsed": false
   },
   "outputs": [
    {
     "data": {
      "text/html": [
       "<div>\n",
       "<table border=\"1\" class=\"dataframe\">\n",
       "  <thead>\n",
       "    <tr style=\"text-align: right;\">\n",
       "      <th></th>\n",
       "      <th>Country</th>\n",
       "      <th>Life Expectancy</th>\n",
       "      <th>Age married</th>\n",
       "    </tr>\n",
       "  </thead>\n",
       "  <tbody>\n",
       "    <tr>\n",
       "      <th>0</th>\n",
       "      <td>Afghanistan</td>\n",
       "      <td>58.151</td>\n",
       "      <td>17.839683</td>\n",
       "    </tr>\n",
       "    <tr>\n",
       "      <th>1</th>\n",
       "      <td>Albania</td>\n",
       "      <td>79.374</td>\n",
       "      <td>23.326509</td>\n",
       "    </tr>\n",
       "    <tr>\n",
       "      <th>2</th>\n",
       "      <td>Algeria</td>\n",
       "      <td>74.357</td>\n",
       "      <td>29.600000</td>\n",
       "    </tr>\n",
       "    <tr>\n",
       "      <th>3</th>\n",
       "      <td>Angola</td>\n",
       "      <td>49.954</td>\n",
       "      <td>NaN</td>\n",
       "    </tr>\n",
       "    <tr>\n",
       "      <th>4</th>\n",
       "      <td>Argentina</td>\n",
       "      <td>78.581</td>\n",
       "      <td>23.263962</td>\n",
       "    </tr>\n",
       "    <tr>\n",
       "      <th>5</th>\n",
       "      <td>Armenia</td>\n",
       "      <td>76.736</td>\n",
       "      <td>22.986034</td>\n",
       "    </tr>\n",
       "    <tr>\n",
       "      <th>6</th>\n",
       "      <td>Australia</td>\n",
       "      <td>83.300</td>\n",
       "      <td>28.931255</td>\n",
       "    </tr>\n",
       "    <tr>\n",
       "      <th>7</th>\n",
       "      <td>Austria</td>\n",
       "      <td>82.200</td>\n",
       "      <td>28.937569</td>\n",
       "    </tr>\n",
       "    <tr>\n",
       "      <th>8</th>\n",
       "      <td>Azerbaijan</td>\n",
       "      <td>71.803</td>\n",
       "      <td>23.886307</td>\n",
       "    </tr>\n",
       "    <tr>\n",
       "      <th>9</th>\n",
       "      <td>Bahrain</td>\n",
       "      <td>76.298</td>\n",
       "      <td>25.904604</td>\n",
       "    </tr>\n",
       "    <tr>\n",
       "      <th>10</th>\n",
       "      <td>Bangladesh</td>\n",
       "      <td>68.734</td>\n",
       "      <td>18.669998</td>\n",
       "    </tr>\n",
       "    <tr>\n",
       "      <th>11</th>\n",
       "      <td>Barbados</td>\n",
       "      <td>76.431</td>\n",
       "      <td>31.768040</td>\n",
       "    </tr>\n",
       "    <tr>\n",
       "      <th>12</th>\n",
       "      <td>Belarus</td>\n",
       "      <td>75.100</td>\n",
       "      <td>22.777203</td>\n",
       "    </tr>\n",
       "    <tr>\n",
       "      <th>13</th>\n",
       "      <td>Belgium</td>\n",
       "      <td>81.900</td>\n",
       "      <td>30.341976</td>\n",
       "    </tr>\n",
       "    <tr>\n",
       "      <th>14</th>\n",
       "      <td>Belize</td>\n",
       "      <td>71.990</td>\n",
       "      <td>26.177633</td>\n",
       "    </tr>\n",
       "    <tr>\n",
       "      <th>15</th>\n",
       "      <td>Benin</td>\n",
       "      <td>58.600</td>\n",
       "      <td>20.333332</td>\n",
       "    </tr>\n",
       "    <tr>\n",
       "      <th>16</th>\n",
       "      <td>Bhutan</td>\n",
       "      <td>65.173</td>\n",
       "      <td>20.085930</td>\n",
       "    </tr>\n",
       "    <tr>\n",
       "      <th>17</th>\n",
       "      <td>Bolivia</td>\n",
       "      <td>65.796</td>\n",
       "      <td>22.595459</td>\n",
       "    </tr>\n",
       "    <tr>\n",
       "      <th>18</th>\n",
       "      <td>Botswana</td>\n",
       "      <td>56.034</td>\n",
       "      <td>27.111586</td>\n",
       "    </tr>\n",
       "    <tr>\n",
       "      <th>19</th>\n",
       "      <td>Brazil</td>\n",
       "      <td>75.761</td>\n",
       "      <td>23.097296</td>\n",
       "    </tr>\n",
       "    <tr>\n",
       "      <th>20</th>\n",
       "      <td>Bulgaria</td>\n",
       "      <td>76.300</td>\n",
       "      <td>24.159792</td>\n",
       "    </tr>\n",
       "    <tr>\n",
       "      <th>21</th>\n",
       "      <td>Burkina Faso</td>\n",
       "      <td>54.702</td>\n",
       "      <td>19.399397</td>\n",
       "    </tr>\n",
       "    <tr>\n",
       "      <th>22</th>\n",
       "      <td>Burundi</td>\n",
       "      <td>54.421</td>\n",
       "      <td>22.463028</td>\n",
       "    </tr>\n",
       "    <tr>\n",
       "      <th>23</th>\n",
       "      <td>Cambodia</td>\n",
       "      <td>65.311</td>\n",
       "      <td>22.300001</td>\n",
       "    </tr>\n",
       "    <tr>\n",
       "      <th>24</th>\n",
       "      <td>Cameroon</td>\n",
       "      <td>52.790</td>\n",
       "      <td>20.151060</td>\n",
       "    </tr>\n",
       "    <tr>\n",
       "      <th>25</th>\n",
       "      <td>Canada</td>\n",
       "      <td>82.700</td>\n",
       "      <td>26.757055</td>\n",
       "    </tr>\n",
       "    <tr>\n",
       "      <th>26</th>\n",
       "      <td>Chad</td>\n",
       "      <td>48.797</td>\n",
       "      <td>18.340000</td>\n",
       "    </tr>\n",
       "    <tr>\n",
       "      <th>27</th>\n",
       "      <td>Chile</td>\n",
       "      <td>81.881</td>\n",
       "      <td>23.371758</td>\n",
       "    </tr>\n",
       "    <tr>\n",
       "      <th>28</th>\n",
       "      <td>China</td>\n",
       "      <td>75.344</td>\n",
       "      <td>23.311623</td>\n",
       "    </tr>\n",
       "    <tr>\n",
       "      <th>29</th>\n",
       "      <td>Colombia</td>\n",
       "      <td>76.047</td>\n",
       "      <td>23.004364</td>\n",
       "    </tr>\n",
       "    <tr>\n",
       "      <th>...</th>\n",
       "      <td>...</td>\n",
       "      <td>...</td>\n",
       "      <td>...</td>\n",
       "    </tr>\n",
       "    <tr>\n",
       "      <th>130</th>\n",
       "      <td>South Africa</td>\n",
       "      <td>52.866</td>\n",
       "      <td>27.903801</td>\n",
       "    </tr>\n",
       "    <tr>\n",
       "      <th>131</th>\n",
       "      <td>Spain</td>\n",
       "      <td>83.500</td>\n",
       "      <td>29.305784</td>\n",
       "    </tr>\n",
       "    <tr>\n",
       "      <th>132</th>\n",
       "      <td>Sri Lanka</td>\n",
       "      <td>77.751</td>\n",
       "      <td>25.263712</td>\n",
       "    </tr>\n",
       "    <tr>\n",
       "      <th>133</th>\n",
       "      <td>Sudan</td>\n",
       "      <td>61.717</td>\n",
       "      <td>22.666328</td>\n",
       "    </tr>\n",
       "    <tr>\n",
       "      <th>134</th>\n",
       "      <td>Suriname</td>\n",
       "      <td>72.353</td>\n",
       "      <td>NaN</td>\n",
       "    </tr>\n",
       "    <tr>\n",
       "      <th>135</th>\n",
       "      <td>Swaziland</td>\n",
       "      <td>45.752</td>\n",
       "      <td>25.959650</td>\n",
       "    </tr>\n",
       "    <tr>\n",
       "      <th>136</th>\n",
       "      <td>Sweden</td>\n",
       "      <td>82.800</td>\n",
       "      <td>32.404984</td>\n",
       "    </tr>\n",
       "    <tr>\n",
       "      <th>137</th>\n",
       "      <td>Switzerland</td>\n",
       "      <td>83.900</td>\n",
       "      <td>29.115191</td>\n",
       "    </tr>\n",
       "    <tr>\n",
       "      <th>138</th>\n",
       "      <td>Tajikistan</td>\n",
       "      <td>69.763</td>\n",
       "      <td>20.914141</td>\n",
       "    </tr>\n",
       "    <tr>\n",
       "      <th>139</th>\n",
       "      <td>Tanzania</td>\n",
       "      <td>56.139</td>\n",
       "      <td>19.969265</td>\n",
       "    </tr>\n",
       "    <tr>\n",
       "      <th>140</th>\n",
       "      <td>Thailand</td>\n",
       "      <td>75.716</td>\n",
       "      <td>24.056095</td>\n",
       "    </tr>\n",
       "    <tr>\n",
       "      <th>141</th>\n",
       "      <td>Togo</td>\n",
       "      <td>55.265</td>\n",
       "      <td>21.349047</td>\n",
       "    </tr>\n",
       "    <tr>\n",
       "      <th>142</th>\n",
       "      <td>Tonga</td>\n",
       "      <td>74.148</td>\n",
       "      <td>25.502417</td>\n",
       "    </tr>\n",
       "    <tr>\n",
       "      <th>143</th>\n",
       "      <td>Trinidad and Tobago</td>\n",
       "      <td>72.715</td>\n",
       "      <td>26.780607</td>\n",
       "    </tr>\n",
       "    <tr>\n",
       "      <th>144</th>\n",
       "      <td>Tunisia</td>\n",
       "      <td>75.500</td>\n",
       "      <td>29.200000</td>\n",
       "    </tr>\n",
       "    <tr>\n",
       "      <th>145</th>\n",
       "      <td>Turkey</td>\n",
       "      <td>75.992</td>\n",
       "      <td>23.047909</td>\n",
       "    </tr>\n",
       "    <tr>\n",
       "      <th>146</th>\n",
       "      <td>Turkmenistan</td>\n",
       "      <td>68.575</td>\n",
       "      <td>23.366835</td>\n",
       "    </tr>\n",
       "    <tr>\n",
       "      <th>147</th>\n",
       "      <td>Uganda</td>\n",
       "      <td>52.664</td>\n",
       "      <td>20.247042</td>\n",
       "    </tr>\n",
       "    <tr>\n",
       "      <th>148</th>\n",
       "      <td>Ukraine</td>\n",
       "      <td>73.970</td>\n",
       "      <td>22.816538</td>\n",
       "    </tr>\n",
       "    <tr>\n",
       "      <th>149</th>\n",
       "      <td>United Arab Emirates</td>\n",
       "      <td>76.825</td>\n",
       "      <td>23.086737</td>\n",
       "    </tr>\n",
       "    <tr>\n",
       "      <th>150</th>\n",
       "      <td>United Kingdom</td>\n",
       "      <td>81.200</td>\n",
       "      <td>29.751621</td>\n",
       "    </tr>\n",
       "    <tr>\n",
       "      <th>151</th>\n",
       "      <td>United States</td>\n",
       "      <td>80.100</td>\n",
       "      <td>25.300000</td>\n",
       "    </tr>\n",
       "    <tr>\n",
       "      <th>152</th>\n",
       "      <td>Uruguay</td>\n",
       "      <td>79.343</td>\n",
       "      <td>23.300493</td>\n",
       "    </tr>\n",
       "    <tr>\n",
       "      <th>153</th>\n",
       "      <td>Uzbekistan</td>\n",
       "      <td>70.726</td>\n",
       "      <td>20.583162</td>\n",
       "    </tr>\n",
       "    <tr>\n",
       "      <th>154</th>\n",
       "      <td>Vanuatu</td>\n",
       "      <td>71.235</td>\n",
       "      <td>22.608027</td>\n",
       "    </tr>\n",
       "    <tr>\n",
       "      <th>155</th>\n",
       "      <td>Virgin Islands (U.S.)</td>\n",
       "      <td>81.700</td>\n",
       "      <td>29.910116</td>\n",
       "    </tr>\n",
       "    <tr>\n",
       "      <th>156</th>\n",
       "      <td>West Bank and Gaza</td>\n",
       "      <td>73.366</td>\n",
       "      <td>22.864492</td>\n",
       "    </tr>\n",
       "    <tr>\n",
       "      <th>157</th>\n",
       "      <td>Yemen, Rep.</td>\n",
       "      <td>62.866</td>\n",
       "      <td>21.670000</td>\n",
       "    </tr>\n",
       "    <tr>\n",
       "      <th>158</th>\n",
       "      <td>Zambia</td>\n",
       "      <td>50.001</td>\n",
       "      <td>20.531061</td>\n",
       "    </tr>\n",
       "    <tr>\n",
       "      <th>159</th>\n",
       "      <td>Zimbabwe</td>\n",
       "      <td>41.293</td>\n",
       "      <td>21.031189</td>\n",
       "    </tr>\n",
       "  </tbody>\n",
       "</table>\n",
       "<p>160 rows × 3 columns</p>\n",
       "</div>"
      ],
      "text/plain": [
       "                   Country  Life Expectancy  Age married\n",
       "0              Afghanistan           58.151    17.839683\n",
       "1                  Albania           79.374    23.326509\n",
       "2                  Algeria           74.357    29.600000\n",
       "3                   Angola           49.954          NaN\n",
       "4                Argentina           78.581    23.263962\n",
       "5                  Armenia           76.736    22.986034\n",
       "6                Australia           83.300    28.931255\n",
       "7                  Austria           82.200    28.937569\n",
       "8               Azerbaijan           71.803    23.886307\n",
       "9                  Bahrain           76.298    25.904604\n",
       "10              Bangladesh           68.734    18.669998\n",
       "11                Barbados           76.431    31.768040\n",
       "12                 Belarus           75.100    22.777203\n",
       "13                 Belgium           81.900    30.341976\n",
       "14                  Belize           71.990    26.177633\n",
       "15                   Benin           58.600    20.333332\n",
       "16                  Bhutan           65.173    20.085930\n",
       "17                 Bolivia           65.796    22.595459\n",
       "18                Botswana           56.034    27.111586\n",
       "19                  Brazil           75.761    23.097296\n",
       "20                Bulgaria           76.300    24.159792\n",
       "21            Burkina Faso           54.702    19.399397\n",
       "22                 Burundi           54.421    22.463028\n",
       "23                Cambodia           65.311    22.300001\n",
       "24                Cameroon           52.790    20.151060\n",
       "25                  Canada           82.700    26.757055\n",
       "26                    Chad           48.797    18.340000\n",
       "27                   Chile           81.881    23.371758\n",
       "28                   China           75.344    23.311623\n",
       "29                Colombia           76.047    23.004364\n",
       "..                     ...              ...          ...\n",
       "130           South Africa           52.866    27.903801\n",
       "131                  Spain           83.500    29.305784\n",
       "132              Sri Lanka           77.751    25.263712\n",
       "133                  Sudan           61.717    22.666328\n",
       "134               Suriname           72.353          NaN\n",
       "135              Swaziland           45.752    25.959650\n",
       "136                 Sweden           82.800    32.404984\n",
       "137            Switzerland           83.900    29.115191\n",
       "138             Tajikistan           69.763    20.914141\n",
       "139               Tanzania           56.139    19.969265\n",
       "140               Thailand           75.716    24.056095\n",
       "141                   Togo           55.265    21.349047\n",
       "142                  Tonga           74.148    25.502417\n",
       "143    Trinidad and Tobago           72.715    26.780607\n",
       "144                Tunisia           75.500    29.200000\n",
       "145                 Turkey           75.992    23.047909\n",
       "146           Turkmenistan           68.575    23.366835\n",
       "147                 Uganda           52.664    20.247042\n",
       "148                Ukraine           73.970    22.816538\n",
       "149   United Arab Emirates           76.825    23.086737\n",
       "150         United Kingdom           81.200    29.751621\n",
       "151          United States           80.100    25.300000\n",
       "152                Uruguay           79.343    23.300493\n",
       "153             Uzbekistan           70.726    20.583162\n",
       "154                Vanuatu           71.235    22.608027\n",
       "155  Virgin Islands (U.S.)           81.700    29.910116\n",
       "156     West Bank and Gaza           73.366    22.864492\n",
       "157            Yemen, Rep.           62.866    21.670000\n",
       "158                 Zambia           50.001    20.531061\n",
       "159               Zimbabwe           41.293    21.031189\n",
       "\n",
       "[160 rows x 3 columns]"
      ]
     },
     "execution_count": 11,
     "metadata": {},
     "output_type": "execute_result"
    }
   ],
   "source": [
    "# I now want to see how does the life expectancy compare to the age at first marriage.\n",
    "\n",
    "merged1 = pd.merge(lifeexpect, agemarriage, on='Country')\n",
    "merged1"
   ]
  },
  {
   "cell_type": "code",
   "execution_count": 13,
   "metadata": {
    "collapsed": false
   },
   "outputs": [
    {
     "data": {
      "text/plain": [
       "(nan, 1.0)"
      ]
     },
     "execution_count": 13,
     "metadata": {},
     "output_type": "execute_result"
    }
   ],
   "source": [
    "x = merged1['Life Expectancy']\n",
    "y = merged1['Age married']\n",
    "\n",
    "scipy.stats.pearsonr(x, y)\n",
    "\n",
    "# This doesn't give me any value so is statistically insignificant."
   ]
  },
  {
   "cell_type": "code",
   "execution_count": 14,
   "metadata": {
    "collapsed": false
   },
   "outputs": [
    {
     "data": {
      "text/plain": [
       "<matplotlib.collections.PathCollection at 0x11681dbd0>"
      ]
     },
     "execution_count": 14,
     "metadata": {},
     "output_type": "execute_result"
    },
    {
     "data": {
      "image/png": "[encoded data removed]",
      "text/plain": [
       "<matplotlib.figure.Figure at 0x11671ddd0>"
      ]
     },
     "metadata": {},
     "output_type": "display_data"
    }
   ],
   "source": [
    "plt.scatter(merged1['Age married'], merged1['Life Expectancy'])\n",
    "\n",
    "# I can see some sort of weak positive relationship. It looks like the later in life you marry, the longer you live.\n",
    "# However, I don't think I can call it correlation (see above)."
   ]
  },
  {
   "cell_type": "code",
   "execution_count": 15,
   "metadata": {
    "collapsed": false
   },
   "outputs": [],
   "source": [
    "# I now want to compare the age on first marriage with fertility rate per woman.\n",
    "\n",
    "response = requests.get(\"http://api.worldbank.org/countries/indicators/SP.DYN.TFRT.IN?per_page=250&date=2005:2005&format=json\")\n",
    "data = response.json()\n",
    "df2 = pd.read_json(json.dumps(data[1]))\n",
    "# I need to clean the DataFrame, as per usual\n",
    "df2['country_cleaned'] = pd.DataFrame(map(lambda x: x['value'], list(df2['country'])))\n",
    "df2['indicator_cleaned'] = pd.DataFrame(map(lambda x: x['value'], list(df2['indicator'])))\n",
    "fertilityrate = df2[['country_cleaned', 'value']]\n",
    "fertilityrate.columns = 'Country', 'Fertility Rate'\n",
    "merged2 = pd.merge(fertilityrate, agemarriage, on='Country')"
   ]
  },
  {
   "cell_type": "code",
   "execution_count": 17,
   "metadata": {
    "collapsed": false
   },
   "outputs": [
    {
     "data": {
      "text/plain": [
       "<matplotlib.collections.PathCollection at 0x116b48710>"
      ]
     },
     "execution_count": 17,
     "metadata": {},
     "output_type": "execute_result"
    },
    {
     "data": {
      "image/png": "[encoded data removed]",
      "text/plain": [
       "<matplotlib.figure.Figure at 0x116820090>"
      ]
     },
     "metadata": {},
     "output_type": "display_data"
    }
   ],
   "source": [
    "plt.scatter(merged2['Fertility Rate'], merged1['Age married'])\n",
    "\n",
    "# We can see some sort of negative correlation - so the younger you marry at, the more children you are likely to have."
   ]
  },
  {
   "cell_type": "code",
   "execution_count": 34,
   "metadata": {
    "collapsed": true
   },
   "outputs": [],
   "source": [
    "# I now want to compare the age on first marriage with maternity mortality ratio.\n",
    "\n",
    "response = requests.get(\"http://api.worldbank.org/countries/indicators/SH.STA.MMRT?per_page=250&date=2005:2005&format=json\")\n",
    "data = response.json()\n",
    "df3 = pd.read_json(json.dumps(data[1]))\n",
    "# I need to clean the DataFrame, as per usual\n",
    "df3['country_cleaned'] = pd.DataFrame(map(lambda x: x['value'], list(df3['country'])))\n",
    "df3['indicator_cleaned'] = pd.DataFrame(map(lambda x: x['value'], list(df3['indicator'])))\n",
    "mmortality = df3[['country_cleaned', 'value']]\n",
    "mmortality.columns = 'Country', 'Mortality Rate'\n",
    "merged3 = pd.merge(mmortality, agemarriage, on='Country')"
   ]
  },
  {
   "cell_type": "code",
   "execution_count": 35,
   "metadata": {
    "collapsed": false
   },
   "outputs": [
    {
     "data": {
      "text/plain": [
       "<matplotlib.collections.PathCollection at 0x11758c710>"
      ]
     },
     "execution_count": 35,
     "metadata": {},
     "output_type": "execute_result"
    },
    {
     "data": {
      "image/png": "[encoded data removed]",
      "text/plain": [
       "<matplotlib.figure.Figure at 0x11742a850>"
      ]
     },
     "metadata": {},
     "output_type": "display_data"
    }
   ],
   "source": [
    "plt.scatter(merged3['Mortality Rate'], merged['Age married'])"
   ]
  },
  {
   "cell_type": "code",
   "execution_count": 36,
   "metadata": {
    "collapsed": true
   },
   "outputs": [],
   "source": [
    "# Mortality rate, per infant.\n",
    "\n",
    "response = requests.get(\"http://api.worldbank.org/countries/indicators/SP.DYN.IMRT.IN?per_page=250&date=2005:2005&format=json\")\n",
    "data = response.json()\n",
    "df4 = pd.read_json(json.dumps(data[1]))\n",
    "df4.head()\n",
    "# I need to clean the DataFrame, as per usual\n",
    "df4['country_cleaned'] = pd.DataFrame(map(lambda x: x['value'], list(df4['country'])))\n",
    "df4['indicator_cleaned'] = pd.DataFrame(map(lambda x: x['value'], list(df4['indicator'])))\n",
    "imortality = df4[['country_cleaned', 'value']]\n",
    "imortality.columns = 'Country', 'Infant Mortality Rate'\n",
    "merged4 = pd.merge(imortality, agemarriage, on='Country')"
   ]
  },
  {
   "cell_type": "code",
   "execution_count": 37,
   "metadata": {
    "collapsed": false
   },
   "outputs": [
    {
     "data": {
      "text/plain": [
       "<matplotlib.collections.PathCollection at 0x117723490>"
      ]
     },
     "execution_count": 37,
     "metadata": {},
     "output_type": "execute_result"
    },
    {
     "data": {
      "image/png": "[encoded data removed]",
      "text/plain": [
       "<matplotlib.figure.Figure at 0x1175a3cd0>"
      ]
     },
     "metadata": {},
     "output_type": "display_data"
    }
   ],
   "source": [
    "plt.scatter(merged4['Infant Mortality Rate'], merged['Age married'])\n",
    "\n",
    "# I can see some sort of negative correlation"
   ]
  },
  {
   "cell_type": "code",
   "execution_count": 41,
   "metadata": {
    "collapsed": false
   },
   "outputs": [],
   "source": [
    "# Mortality rate under 5.\n",
    "\n",
    "response = requests.get(\"http://api.worldbank.org/countries/indicators/SH.DYN.MORT?per_page=250&date=2005:2005&format=json\")\n",
    "data = response.json()\n",
    "df5 = pd.read_json(json.dumps(data[1]))\n",
    "# I need to clean the DataFrame, as per usual\n",
    "df5['country_cleaned'] = pd.DataFrame(map(lambda x: x['value'], list(df5['country'])))\n",
    "df5['indicator_cleaned'] = pd.DataFrame(map(lambda x: x['value'], list(df5['indicator'])))\n",
    "cmortality = df5[['country_cleaned', 'value']]\n",
    "cmortality.columns = 'Country', 'Child Mortality Rate'\n",
    "merged5 = pd.merge(cmortality, agemarriage, on='Country')"
   ]
  },
  {
   "cell_type": "code",
   "execution_count": 42,
   "metadata": {
    "collapsed": false
   },
   "outputs": [
    {
     "data": {
      "text/plain": [
       "<matplotlib.collections.PathCollection at 0x117a7bf10>"
      ]
     },
     "execution_count": 42,
     "metadata": {},
     "output_type": "execute_result"
    },
    {
     "data": {
      "image/png": "[encoded data removed]",
      "text/plain": [
       "<matplotlib.figure.Figure at 0x11762e3d0>"
      ]
     },
     "metadata": {},
     "output_type": "display_data"
    }
   ],
   "source": [
    "plt.scatter(merged5['Child Mortality Rate'], merged['Age married'])\n",
    "# Again, the mortality of children seems to be lower if you marry later."
   ]
  },
  {
   "cell_type": "code",
   "execution_count": 43,
   "metadata": {
    "collapsed": true
   },
   "outputs": [],
   "source": [
    "# Net official aid received.\n",
    "\n",
    "response = requests.get(\"http://api.worldbank.org/countries/indicators/DT.ODA.ALLD.CD?per_page=250&date=2005:2005&format=json\")\n",
    "data = response.json()\n",
    "df6 = pd.read_json(json.dumps(data[1]))\n",
    "# I need to clean the DataFrame, as per usual\n",
    "df6['country_cleaned'] = pd.DataFrame(map(lambda x: x['value'], list(df6['country'])))\n",
    "df6['indicator_cleaned'] = pd.DataFrame(map(lambda x: x['value'], list(df6['indicator'])))\n",
    "aidreceived = df6[['country_cleaned', 'value']]\n",
    "aidreceived.columns = 'Country', 'Aid received'\n",
    "merged6 = pd.merge(aidreceived, agemarriage, on='Country')"
   ]
  },
  {
   "cell_type": "code",
   "execution_count": 44,
   "metadata": {
    "collapsed": false
   },
   "outputs": [
    {
     "data": {
      "text/plain": [
       "<matplotlib.collections.PathCollection at 0x117c2b490>"
      ]
     },
     "execution_count": 44,
     "metadata": {},
     "output_type": "execute_result"
    },
    {
     "data": {
      "image/png": "[encoded data removed]",
      "text/plain": [
       "<matplotlib.figure.Figure at 0x117ab1f10>"
      ]
     },
     "metadata": {},
     "output_type": "display_data"
    }
   ],
   "source": [
    "plt.scatter(merged6['Aid received'], merged['Age married'])\n",
    "# So the aid received does not influence the age at which women marry for the first time."
   ]
  },
  {
   "cell_type": "code",
   "execution_count": 47,
   "metadata": {
    "collapsed": false
   },
   "outputs": [],
   "source": [
    "# I want to seee if there is any correspondence between the age to marry and prevalence of contraceptives.\n",
    "\n",
    "response = requests.get(\"http://api.worldbank.org/countries/indicators/SP.DYN.CONU.ZS?per_page=250&date=2005:2005&format=json\")\n",
    "data = response.json()\n",
    "df7 = pd.read_json(json.dumps(data[1]))\n",
    "# I need to clean the DataFrame, as per usual\n",
    "df7['country_cleaned'] = pd.DataFrame(map(lambda x: x['value'], list(df7['country'])))\n",
    "df7['indicator_cleaned'] = pd.DataFrame(map(lambda x: x['value'], list(df7['indicator'])))\n",
    "contraceptives = df7[['country_cleaned', 'value']]\n",
    "contraceptives.columns = 'Country', 'Contraceptives'\n",
    "merged7 = pd.merge(contraceptives, agemarriage, on='Country')"
   ]
  },
  {
   "cell_type": "code",
   "execution_count": 48,
   "metadata": {
    "collapsed": false
   },
   "outputs": [
    {
     "data": {
      "text/plain": [
       "<matplotlib.collections.PathCollection at 0x117aebf10>"
      ]
     },
     "execution_count": 48,
     "metadata": {},
     "output_type": "execute_result"
    },
    {
     "data": {
      "image/png": "[encoded data removed]",
      "text/plain": [
       "<matplotlib.figure.Figure at 0x117c84f90>"
      ]
     },
     "metadata": {},
     "output_type": "display_data"
    }
   ],
   "source": [
    "plt.scatter(merged7['Contraceptives'], merged['Age married'])\n",
    "# There is some sort of positive correlation."
   ]
  },
  {
   "cell_type": "code",
   "execution_count": 50,
   "metadata": {
    "collapsed": false
   },
   "outputs": [],
   "source": [
    "# I want to see the relationship between the age of first marrying and primary completion rate for both sexes.\n",
    "response = requests.get(\"http://api.worldbank.org/countries/indicators/SE.PRM.CMPT.ZS?per_page=250&date=2005:2005&format=json\")\n",
    "data = response.json()\n",
    "df8 = pd.read_json(json.dumps(data[1]))\n",
    "df8['country_cleaned'] = pd.DataFrame(map(lambda x: x['value'], list(df8['country'])))\n",
    "df8['indicator_cleaned'] = pd.DataFrame(map(lambda x: x['value'], list(df8['indicator'])))\n",
    "primarytot = df8[['country_cleaned', 'value']]\n",
    "primarytot.columns = 'Country', 'Primary completion rate'\n",
    "merged8 = pd.merge(primarytot, agemarriage, on='Country')"
   ]
  },
  {
   "cell_type": "code",
   "execution_count": 51,
   "metadata": {
    "collapsed": false
   },
   "outputs": [
    {
     "data": {
      "text/plain": [
       "<matplotlib.collections.PathCollection at 0x1181c6550>"
      ]
     },
     "execution_count": 51,
     "metadata": {},
     "output_type": "execute_result"
    },
    {
     "data": {
      "image/png": "[encoded data removed]",
      "text/plain": [
       "<matplotlib.figure.Figure at 0x1177f1350>"
      ]
     },
     "metadata": {},
     "output_type": "display_data"
    }
   ],
   "source": [
    "plt.scatter(merged8['Primary completion rate'], merged['Age married'])\n",
    "# There is some sort of positive correlation."
   ]
  },
  {
   "cell_type": "code",
   "execution_count": 52,
   "metadata": {
    "collapsed": true
   },
   "outputs": [],
   "source": [
    "# I now just want to look at the primary completion rate for females only.\n",
    "\n",
    "response = requests.get(\"http://api.worldbank.org/countries/indicators/SE.PRM.CMPT.ZS?per_page=250&date=2005:2005&format=json\")\n",
    "data = response.json()\n",
    "df9 = pd.read_json(json.dumps(data[1]))\n",
    "df9['country_cleaned'] = pd.DataFrame(map(lambda x: x['value'], list(df9['country'])))\n",
    "df9['indicator_cleaned'] = pd.DataFrame(map(lambda x: x['value'], list(df9['indicator'])))\n",
    "primaryfem = df8[['country_cleaned', 'value']]\n",
    "primaryfem.columns = 'Country', 'Primary completion rate female'\n",
    "merged9 = pd.merge(primaryfem, agemarriage, on='Country')"
   ]
  },
  {
   "cell_type": "code",
   "execution_count": 53,
   "metadata": {
    "collapsed": false
   },
   "outputs": [
    {
     "data": {
      "text/plain": [
       "<matplotlib.collections.PathCollection at 0x11836dad0>"
      ]
     },
     "execution_count": 53,
     "metadata": {},
     "output_type": "execute_result"
    },
    {
     "data": {
      "image/png": "[encoded data removed]",
      "text/plain": [
       "<matplotlib.figure.Figure at 0x117960dd0>"
      ]
     },
     "metadata": {},
     "output_type": "display_data"
    }
   ],
   "source": [
    "plt.scatter(merged9['Primary completion rate female'], merged['Age married'])\n",
    "# There is some a clearer positive correlation."
   ]
  },
  {
   "cell_type": "code",
   "execution_count": 54,
   "metadata": {
    "collapsed": true
   },
   "outputs": [],
   "source": [
    "# I now want to compare it with primary completion rate for males.\n",
    "\n",
    "response = requests.get(\"http://api.worldbank.org/countries/indicators/SE.PRM.CMPT.MA.ZS?per_page=250&date=2005:2005&format=json\")\n",
    "data = response.json()\n",
    "df10 = pd.read_json(json.dumps(data[1]))\n",
    "df10['country_cleaned'] = pd.DataFrame(map(lambda x: x['value'], list(df10['country'])))\n",
    "df10['indicator_cleaned'] = pd.DataFrame(map(lambda x: x['value'], list(df10['indicator'])))\n",
    "primarymal = df10[['country_cleaned', 'value']]\n",
    "primarymal.columns = 'Country', 'Primary completion rate male'\n",
    "merged10 = pd.merge(primarymal, agemarriage, on='Country')"
   ]
  },
  {
   "cell_type": "code",
   "execution_count": 56,
   "metadata": {
    "collapsed": false
   },
   "outputs": [
    {
     "data": {
      "text/plain": [
       "<matplotlib.collections.PathCollection at 0x118512210>"
      ]
     },
     "execution_count": 56,
     "metadata": {},
     "output_type": "execute_result"
    },
    {
     "data": {
      "image/png": "[encoded data removed]",
      "text/plain": [
       "<matplotlib.figure.Figure at 0x117c4cc90>"
      ]
     },
     "metadata": {},
     "output_type": "display_data"
    }
   ],
   "source": [
    "plt.scatter(merged10['Primary completion rate male'], merged['Age married'])\n",
    "# There is some sort of positive correlation."
   ]
  },
  {
   "cell_type": "code",
   "execution_count": 57,
   "metadata": {
    "collapsed": true
   },
   "outputs": [],
   "source": [
    "# I want to see how that correlates with the pupil-teacher ratio.\n",
    "\n",
    "response = requests.get(\"http://api.worldbank.org/countries/indicators/SE.PRM.ENRL.TC.ZS?per_page=250&date=2005:2005&format=json\")\n",
    "data = response.json()\n",
    "df11 = pd.read_json(json.dumps(data[1]))\n",
    "df11['country_cleaned'] = pd.DataFrame(map(lambda x: x['value'], list(df11['country'])))\n",
    "df11['indicator_cleaned'] = pd.DataFrame(map(lambda x: x['value'], list(df11['indicator'])))\n",
    "pupilteach = df11[['country_cleaned', 'value']]\n",
    "pupilteach.columns = 'Country', 'Pupil-teacher ratio'\n",
    "merged11 = pd.merge(pupilteach, agemarriage, on='Country')"
   ]
  },
  {
   "cell_type": "code",
   "execution_count": 58,
   "metadata": {
    "collapsed": false
   },
   "outputs": [
    {
     "data": {
      "text/plain": [
       "<matplotlib.collections.PathCollection at 0x1186b2f10>"
      ]
     },
     "execution_count": 58,
     "metadata": {},
     "output_type": "execute_result"
    },
    {
     "data": {
      "image/png": "[encoded data removed]",
      "text/plain": [
       "<matplotlib.figure.Figure at 0x11836dc10>"
      ]
     },
     "metadata": {},
     "output_type": "display_data"
    }
   ],
   "source": [
    "plt.scatter(merged11['Pupil-teacher ratio'], merged['Age married'])\n",
    "# There is some sort of positive correlation."
   ]
  }
 ],
 "metadata": {
  "kernelspec": {
   "display_name": "Python 2",
   "language": "python",
   "name": "python2"
  },
  "language_info": {
   "codemirror_mode": {
    "name": "ipython",
    "version": 2
   },
   "file_extension": ".py",
   "mimetype": "text/x-python",
   "name": "python",
   "nbconvert_exporter": "python",
   "pygments_lexer": "ipython2",
   "version": "2.7.11"
  }
 },
 "nbformat": 4,
 "nbformat_minor": 0
}
