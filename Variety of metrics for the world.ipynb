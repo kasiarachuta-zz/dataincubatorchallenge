{
 "cells": [
  {
   "cell_type": "code",
   "execution_count": null,
   "metadata": {
    "collapsed": true
   },
   "outputs": [],
   "source": [
    "'''Here I want to analyze the different trends across the whole world. I want to see if things\n",
    "in the world are getting better, as I am expecting them to; or if they are staying the same \n",
    "or, even worst, getting worse.''' "
   ]
  },
  {
   "cell_type": "code",
   "execution_count": 1,
   "metadata": {
    "collapsed": true
   },
   "outputs": [],
   "source": [
    "import pandas as pd\n",
    "import requests\n",
    "import json\n",
    "import scipy.stats\n",
    "import matplotlib.pyplot as plt\n",
    "import matplotlib\n",
    "%matplotlib inline "
   ]
  },
  {
   "cell_type": "code",
   "execution_count": 9,
   "metadata": {
    "collapsed": false
   },
   "outputs": [],
   "source": [
    "# Firstly, I look at the data for the crude deaths per 1,000 in the world.\n",
    "\n",
    "response = requests.get(\"http://api.worldbank.org/countries/indicators/SP.DYN.CDRT.IN?per_page=13900&date=1960:2016&format=json\")\n",
    "data = response.json()\n",
    "df1 = pd.read_json(json.dumps(data[1]))\n",
    "df1['country_cleaned'] = pd.DataFrame(map(lambda x: x['value'], list(df1['country'])))\n",
    "df1['indicator_cleaned'] = pd.DataFrame(map(lambda x: x['value'], list(df1['indicator'])))\n",
    "# I now want to drop duplicates to see which countries I have values for.\n",
    "df1 = df1.dropna()"
   ]
  },
  {
   "cell_type": "code",
   "execution_count": 10,
   "metadata": {
    "collapsed": false
   },
   "outputs": [
    {
     "data": {
      "text/plain": [
       "<matplotlib.collections.PathCollection at 0x117181b10>"
      ]
     },
     "execution_count": 10,
     "metadata": {},
     "output_type": "execute_result"
    },
    {
     "data": {
      "image/png": "[encoded data removed]",
      "text/plain": [
       "<matplotlib.figure.Figure at 0x116467150>"
      ]
     },
     "metadata": {},
     "output_type": "display_data"
    }
   ],
   "source": [
    "# I now want to see how the death rate per 1,000 has changed in the world.\n",
    "df1world = df1[df1['country_cleaned'] == 'World']\n",
    "plt.scatter(df1world['date'], df1world['value'])"
   ]
  },
  {
   "cell_type": "code",
   "execution_count": 11,
   "metadata": {
    "collapsed": true
   },
   "outputs": [],
   "source": [
    "# I now want to look at the life expectancy for females.\n",
    "response = requests.get(\"http://api.worldbank.org/countries/indicators/SP.DYN.LE00.FE.IN?per_page=13000&date=1960:2016&format=json\")\n",
    "data = response.json()\n",
    "df2 = pd.read_json(json.dumps(data[1]))\n",
    "# I need to clean the DataFrame, as per usual\n",
    "df2['country_cleaned'] = pd.DataFrame(map(lambda x: x['value'], list(df2['country'])))\n",
    "df2['indicator_cleaned'] = pd.DataFrame(map(lambda x: x['value'], list(df2['indicator'])))\n",
    "# I now want to drop duplicates to see which countries I have values for.\n",
    "df2 = df2.dropna()"
   ]
  },
  {
   "cell_type": "code",
   "execution_count": 12,
   "metadata": {
    "collapsed": false
   },
   "outputs": [
    {
     "data": {
      "text/plain": [
       "<matplotlib.collections.PathCollection at 0x11bed2850>"
      ]
     },
     "execution_count": 12,
     "metadata": {},
     "output_type": "execute_result"
    },
    {
     "data": {
      "image/png": "[encoded data removed]",
      "text/plain": [
       "<matplotlib.figure.Figure at 0x11718c3d0>"
      ]
     },
     "metadata": {},
     "output_type": "display_data"
    }
   ],
   "source": [
    "df2world = df2[df2['country_cleaned'] == 'World']\n",
    "plt.scatter(df2world['date'], df2world['value'])"
   ]
  },
  {
   "cell_type": "code",
   "execution_count": 13,
   "metadata": {
    "collapsed": true
   },
   "outputs": [],
   "source": [
    "# Now I want to see the life expectancy changes for males.\n",
    "response = requests.get(\"http://api.worldbank.org/countries/indicators/SP.DYN.LE00.MA.IN?per_page=13000&date=1960:2016&format=json\")\n",
    "data = response.json()\n",
    "df3 = pd.read_json(json.dumps(data[1]))\n",
    "# I need to clean the DataFrame, as per usual\n",
    "df3['country_cleaned'] = pd.DataFrame(map(lambda x: x['value'], list(df3['country'])))\n",
    "df3['indicator_cleaned'] = pd.DataFrame(map(lambda x: x['value'], list(df3['indicator'])))\n",
    "df3 = df3.dropna()"
   ]
  },
  {
   "cell_type": "code",
   "execution_count": 14,
   "metadata": {
    "collapsed": false
   },
   "outputs": [
    {
     "data": {
      "text/plain": [
       "<matplotlib.collections.PathCollection at 0x11ccb0710>"
      ]
     },
     "execution_count": 14,
     "metadata": {},
     "output_type": "execute_result"
    },
    {
     "data": {
      "image/png": "[encoded data removed]",
      "text/plain": [
       "<matplotlib.figure.Figure at 0x11be69190>"
      ]
     },
     "metadata": {},
     "output_type": "display_data"
    }
   ],
   "source": [
    "df3world = df3[df3['country_cleaned'] == 'World']\n",
    "plt.scatter(df3world['date'], df3world['value'])"
   ]
  },
  {
   "cell_type": "code",
   "execution_count": null,
   "metadata": {
    "collapsed": true
   },
   "outputs": [],
   "source": [
    "# The graph looks roughly the same for both males and females. However, the values for males are lower than."
   ]
  },
  {
   "cell_type": "code",
   "execution_count": 16,
   "metadata": {
    "collapsed": true
   },
   "outputs": [],
   "source": [
    "# Now I want to look at the total life expectancy.\n",
    "response = requests.get(\"http://api.worldbank.org/countries/indicators/SP.DYN.LE00.IN?per_page=13000&date=1960:2016&format=json\")\n",
    "data = response.json()\n",
    "df4 = pd.read_json(json.dumps(data[1]))\n",
    "df4['country_cleaned'] = pd.DataFrame(map(lambda x: x['value'], list(df4['country'])))\n",
    "df4['indicator_cleaned'] = pd.DataFrame(map(lambda x: x['value'], list(df4['indicator'])))\n",
    "df4 = df4.dropna()"
   ]
  },
  {
   "cell_type": "code",
   "execution_count": 17,
   "metadata": {
    "collapsed": false
   },
   "outputs": [
    {
     "data": {
      "text/plain": [
       "<matplotlib.collections.PathCollection at 0x11f910dd0>"
      ]
     },
     "execution_count": 17,
     "metadata": {},
     "output_type": "execute_result"
    },
    {
     "data": {
      "image/png": "[encoded data removed]",
      "text/plain": [
       "<matplotlib.figure.Figure at 0x11e7b1150>"
      ]
     },
     "metadata": {},
     "output_type": "display_data"
    }
   ],
   "source": [
    "df4world = df4[df4['country_cleaned'] == 'World']\n",
    "plt.scatter(df4world['date'], df4world['value'])\n",
    "\n",
    "'''I can see very similar patterns as I would anywhere else which is expected.'''"
   ]
  },
  {
   "cell_type": "code",
   "execution_count": 18,
   "metadata": {
    "collapsed": true
   },
   "outputs": [],
   "source": [
    "# I now want to look at how population 0-14 in the world has changed.\n",
    "\n",
    "response = requests.get(\"http://api.worldbank.org/countries/indicators/SP.POP.0014.TO.ZS?per_page=13000&date=1960:2016&format=json\")\n",
    "data = response.json()\n",
    "df5 = pd.read_json(json.dumps(data[1]))\n",
    "# I need to clean the DataFrame, as per usual\n",
    "df5['country_cleaned'] = pd.DataFrame(map(lambda x: x['value'], list(df5['country'])))\n",
    "df5['indicator_cleaned'] = pd.DataFrame(map(lambda x: x['value'], list(df5['indicator'])))\n",
    "# I now want to drop duplicates to see which countries I have values for.\n",
    "df5 = df5.dropna()"
   ]
  },
  {
   "cell_type": "code",
   "execution_count": 19,
   "metadata": {
    "collapsed": false
   },
   "outputs": [
    {
     "data": {
      "text/plain": [
       "<matplotlib.collections.PathCollection at 0x11e2dbc10>"
      ]
     },
     "execution_count": 19,
     "metadata": {},
     "output_type": "execute_result"
    },
    {
     "data": {
      "image/png": "[encoded data removed]",
      "text/plain": [
       "<matplotlib.figure.Figure at 0x117188050>"
      ]
     },
     "metadata": {},
     "output_type": "display_data"
    }
   ],
   "source": [
    "df5world = df5[df5['country_cleaned'] == 'World']\n",
    "plt.scatter(df5world['date'], df5world['value'])\n",
    "\n",
    "'''The population of people aged 0-14 has decreased which is expected as I hear a lot of talk about \n",
    "the world population getting older. However, it is interesting to see that it has not been a steady decrease.\n",
    "RAther, it initially increased and was flactuating slightly.'''"
   ]
  },
  {
   "cell_type": "code",
   "execution_count": 20,
   "metadata": {
    "collapsed": true
   },
   "outputs": [],
   "source": [
    "# Now I want to look at the population over 65 in the world.\n",
    "response = requests.get(\"http://api.worldbank.org/countries/indicators/SP.POP.65UP.TO.ZS?per_page=13000&date=1960:2016&format=json\")\n",
    "data = response.json()\n",
    "df6 = pd.read_json(json.dumps(data[1]))\n",
    "# I need to clean the DataFrame, as per usual\n",
    "df6['country_cleaned'] = pd.DataFrame(map(lambda x: x['value'], list(df6['country'])))\n",
    "df6['indicator_cleaned'] = pd.DataFrame(map(lambda x: x['value'], list(df6['indicator'])))\n",
    "df6 = df6.dropna()"
   ]
  },
  {
   "cell_type": "code",
   "execution_count": 21,
   "metadata": {
    "collapsed": false
   },
   "outputs": [
    {
     "data": {
      "text/plain": [
       "<matplotlib.collections.PathCollection at 0x120e913d0>"
      ]
     },
     "execution_count": 21,
     "metadata": {},
     "output_type": "execute_result"
    },
    {
     "data": {
      "image/png": "[encoded data removed]",
      "text/plain": [
       "<matplotlib.figure.Figure at 0x12055d9d0>"
      ]
     },
     "metadata": {},
     "output_type": "display_data"
    }
   ],
   "source": [
    "df6world = df6[df6['country_cleaned'] == 'World']\n",
    "plt.scatter(df6world['date'], df6world['value'])"
   ]
  },
  {
   "cell_type": "code",
   "execution_count": null,
   "metadata": {
    "collapsed": true
   },
   "outputs": [],
   "source": [
    "'''This is really interesting. I have been expecting it to increase. However, I have not anticipated the slight\n",
    "drops and flactuations between 1960-1980.'''"
   ]
  },
  {
   "cell_type": "code",
   "execution_count": 22,
   "metadata": {
    "collapsed": true
   },
   "outputs": [],
   "source": [
    "# Now I want to look at the population growth in the world.\n",
    "response = requests.get(\"http://api.worldbank.org/countries/indicators/SP.POP.GROW?per_page=13000&date=1960:2016&format=json\")\n",
    "data = response.json()\n",
    "df7 = pd.read_json(json.dumps(data[1]))\n",
    "# I need to clean the DataFrame, as per usual\n",
    "df7['country_cleaned'] = pd.DataFrame(map(lambda x: x['value'], list(df7['country'])))\n",
    "df7['indicator_cleaned'] = pd.DataFrame(map(lambda x: x['value'], list(df7['indicator'])))\n",
    "df7 = df7.dropna()"
   ]
  },
  {
   "cell_type": "code",
   "execution_count": 23,
   "metadata": {
    "collapsed": false
   },
   "outputs": [
    {
     "data": {
      "text/plain": [
       "<matplotlib.collections.PathCollection at 0x122e35790>"
      ]
     },
     "execution_count": 23,
     "metadata": {},
     "output_type": "execute_result"
    },
    {
     "data": {
      "image/png": "[encoded data removed]",
      "text/plain": [
       "<matplotlib.figure.Figure at 0x121583250>"
      ]
     },
     "metadata": {},
     "output_type": "display_data"
    }
   ],
   "source": [
    "df7world = df7[df7['country_cleaned'] == 'World']\n",
    "plt.scatter(df7world['date'], df7world['value'])"
   ]
  },
  {
   "cell_type": "code",
   "execution_count": null,
   "metadata": {
    "collapsed": true
   },
   "outputs": [],
   "source": [
    "'''This graph is insanely interesting. There are a lot of flactuations - even though they are quite slight.\n",
    "I am interested in what regions and countries had the biggest flactuations - this is something I definitely\n",
    "want to look into.'''"
   ]
  },
  {
   "cell_type": "code",
   "execution_count": 24,
   "metadata": {
    "collapsed": true
   },
   "outputs": [],
   "source": [
    "# I want to look at the population in the largest cities.\n",
    "response = requests.get(\"http://api.worldbank.org/countries/indicators/EN.URB.LCTY.UR.ZS?per_page=13000&date=1960:2016&format=json\")\n",
    "data = response.json()\n",
    "df8 = pd.read_json(json.dumps(data[1]))\n",
    "# I need to clean the DataFrame, as per usual\n",
    "df8['country_cleaned'] = pd.DataFrame(map(lambda x: x['value'], list(df8['country'])))\n",
    "df8['indicator_cleaned'] = pd.DataFrame(map(lambda x: x['value'], list(df8['indicator'])))\n",
    "df8 = df8.dropna()"
   ]
  },
  {
   "cell_type": "code",
   "execution_count": 25,
   "metadata": {
    "collapsed": false
   },
   "outputs": [
    {
     "data": {
      "text/plain": [
       "<matplotlib.collections.PathCollection at 0x122092ed0>"
      ]
     },
     "execution_count": 25,
     "metadata": {},
     "output_type": "execute_result"
    },
    {
     "data": {
      "image/png": "[encoded data removed]",
      "text/plain": [
       "<matplotlib.figure.Figure at 0x121585510>"
      ]
     },
     "metadata": {},
     "output_type": "display_data"
    }
   ],
   "source": [
    "df8world = df8[df8['country_cleaned'] == 'World']\n",
    "plt.scatter(df8world['date'], df8world['value'])"
   ]
  },
  {
   "cell_type": "code",
   "execution_count": null,
   "metadata": {
    "collapsed": true
   },
   "outputs": [],
   "source": [
    "'''Again, another interesting graph. I would have expected the population in the largest cities to \n",
    "keep on increasing as peple migrate to bigger cities in search of wealth. I can see that initially,\n",
    "there is an increase and then there is a fairly steady decrease which then levels off.'''"
   ]
  },
  {
   "cell_type": "code",
   "execution_count": 26,
   "metadata": {
    "collapsed": true
   },
   "outputs": [],
   "source": [
    "# Now I want to look at the population in urban aglomeration above 1M.\n",
    "response = requests.get(\"http://api.worldbank.org/countries/indicators/EN.URB.MCTY.TL.ZS?per_page=13000&date=1960:2016&format=json\")\n",
    "data = response.json()\n",
    "df9 = pd.read_json(json.dumps(data[1]))\n",
    "# I need to clean the DataFrame, as per usual\n",
    "df9['country_cleaned'] = pd.DataFrame(map(lambda x: x['value'], list(df9['country'])))\n",
    "df9['indicator_cleaned'] = pd.DataFrame(map(lambda x: x['value'], list(df9['indicator'])))\n",
    "df9 = df9.dropna()"
   ]
  },
  {
   "cell_type": "code",
   "execution_count": 27,
   "metadata": {
    "collapsed": false
   },
   "outputs": [
    {
     "data": {
      "text/plain": [
       "<matplotlib.collections.PathCollection at 0x1244dc110>"
      ]
     },
     "execution_count": 27,
     "metadata": {},
     "output_type": "execute_result"
    },
    {
     "data": {
      "image/png": "[encoded data removed]",
      "text/plain": [
       "<matplotlib.figure.Figure at 0x11da73850>"
      ]
     },
     "metadata": {},
     "output_type": "display_data"
    }
   ],
   "source": [
    "df9world = df9[df9['country_cleaned'] == 'World']\n",
    "plt.scatter(df9world['date'], df9world['value'])"
   ]
  },
  {
   "cell_type": "code",
   "execution_count": null,
   "metadata": {
    "collapsed": true
   },
   "outputs": [],
   "source": [
    "'''This is really interesting. That means that people are migrating to bigger cities - but only if\n",
    "those cities have more than 1M people living in them. If the proportion of the world population in big cities\n",
    "has been decreasing, that means that people try to migrate to bigger cities but not to any cities.'''"
   ]
  },
  {
   "cell_type": "code",
   "execution_count": 28,
   "metadata": {
    "collapsed": true
   },
   "outputs": [],
   "source": [
    "# I want to look at population aged 15-64\n",
    "response = requests.get(\"http://api.worldbank.org/countries/indicators/SP.POP.1564.TO.ZS?per_page=13000&date=1960:2016&format=json\")\n",
    "data = response.json()\n",
    "df10 = pd.read_json(json.dumps(data[1]))\n",
    "# I need to clean the DataFrame, as per usual\n",
    "df10['country_cleaned'] = pd.DataFrame(map(lambda x: x['value'], list(df10['country'])))\n",
    "df10['indicator_cleaned'] = pd.DataFrame(map(lambda x: x['value'], list(df10['indicator'])))\n",
    "# I now want to drop duplicates to see which countries I have values for.\n",
    "df10 = df10.dropna()"
   ]
  },
  {
   "cell_type": "code",
   "execution_count": 29,
   "metadata": {
    "collapsed": false
   },
   "outputs": [
    {
     "data": {
      "text/plain": [
       "<matplotlib.collections.PathCollection at 0x125bd7710>"
      ]
     },
     "execution_count": 29,
     "metadata": {},
     "output_type": "execute_result"
    },
    {
     "data": {
      "image/png": "[encoded data removed]",
      "text/plain": [
       "<matplotlib.figure.Figure at 0x1246ece90>"
      ]
     },
     "metadata": {},
     "output_type": "display_data"
    }
   ],
   "source": [
    "df10world = df10[df10['country_cleaned'] == 'World']\n",
    "plt.scatter(df10world['date'], df10world['value'])"
   ]
  },
  {
   "cell_type": "code",
   "execution_count": null,
   "metadata": {
    "collapsed": true
   },
   "outputs": [],
   "source": [
    "'''Again, I think this makes sense. The proportion of population aged 15-64 has been increasing.'''"
   ]
  },
  {
   "cell_type": "code",
   "execution_count": 31,
   "metadata": {
    "collapsed": true
   },
   "outputs": [],
   "source": [
    "# I'm now looking at population of females as % of total\n",
    "response = requests.get(\"http://api.worldbank.org/countries/indicators/SP.POP.TOTL.FE.ZS?per_page=13000&date=1960:2016&format=json\")\n",
    "data = response.json()\n",
    "df11 = pd.read_json(json.dumps(data[1]))\n",
    "# I need to clean the DataFrame, as per usual\n",
    "df11['country_cleaned'] = pd.DataFrame(map(lambda x: x['value'], list(df11['country'])))\n",
    "df11['indicator_cleaned'] = pd.DataFrame(map(lambda x: x['value'], list(df11['indicator'])))\n",
    "df11 = df11.dropna()"
   ]
  },
  {
   "cell_type": "code",
   "execution_count": 32,
   "metadata": {
    "collapsed": false
   },
   "outputs": [
    {
     "data": {
      "text/plain": [
       "<matplotlib.collections.PathCollection at 0x12498ab50>"
      ]
     },
     "execution_count": 32,
     "metadata": {},
     "output_type": "execute_result"
    },
    {
     "data": {
      "image/png": "[encoded data removed]",
      "text/plain": [
       "<matplotlib.figure.Figure at 0x12747ad90>"
      ]
     },
     "metadata": {},
     "output_type": "display_data"
    }
   ],
   "source": [
    "df11world = df11[df11['country_cleaned'] == 'World']\n",
    "plt.scatter(df11world['date'], df11world['value'])"
   ]
  },
  {
   "cell_type": "code",
   "execution_count": null,
   "metadata": {
    "collapsed": true
   },
   "outputs": [],
   "source": [
    "'''This is really interesting. I can see that the proportion of females in the world has\n",
    "been decreasing which is very bizarre. However, looking at the numbers, this number has decreased only very\n",
    "slightly.'''"
   ]
  },
  {
   "cell_type": "code",
   "execution_count": 33,
   "metadata": {
    "collapsed": true
   },
   "outputs": [],
   "source": [
    "# Total population\n",
    "response = requests.get(\"http://api.worldbank.org/countries/indicators/SP.POP.TOTL?per_page=13000&date=1960:2016&format=json\")\n",
    "data = response.json()\n",
    "df12 = pd.read_json(json.dumps(data[1]))\n",
    "# I need to clean the DataFrame, as per usual\n",
    "df12['country_cleaned'] = pd.DataFrame(map(lambda x: x['value'], list(df12['country'])))\n",
    "df12['indicator_cleaned'] = pd.DataFrame(map(lambda x: x['value'], list(df12['indicator'])))\n",
    "df12 = df12.dropna()"
   ]
  },
  {
   "cell_type": "code",
   "execution_count": 34,
   "metadata": {
    "collapsed": false
   },
   "outputs": [
    {
     "data": {
      "text/plain": [
       "<matplotlib.collections.PathCollection at 0x126a4d350>"
      ]
     },
     "execution_count": 34,
     "metadata": {},
     "output_type": "execute_result"
    },
    {
     "data": {
      "image/png": "[encoded data removed]",
      "text/plain": [
       "<matplotlib.figure.Figure at 0x124367450>"
      ]
     },
     "metadata": {},
     "output_type": "display_data"
    }
   ],
   "source": [
    "df12world = df12[df12['country_cleaned'] == 'World']\n",
    "plt.scatter(df12world['date'], df12world['value'])"
   ]
  },
  {
   "cell_type": "code",
   "execution_count": null,
   "metadata": {
    "collapsed": true
   },
   "outputs": [],
   "source": [
    "'''This is a very steaady increase - I expected something more of an expontential increase.'''"
   ]
  },
  {
   "cell_type": "code",
   "execution_count": 35,
   "metadata": {
    "collapsed": true
   },
   "outputs": [],
   "source": [
    "# Rural population as % of total population\n",
    "response = requests.get(\"http://api.worldbank.org/countries/indicators/SP.RUR.TOTL.ZS?per_page=13000&date=1960:2016&format=json\")\n",
    "data = response.json()\n",
    "df13 = pd.read_json(json.dumps(data[1]))\n",
    "# I need to clean the DataFrame, as per usual\n",
    "df13['country_cleaned'] = pd.DataFrame(map(lambda x: x['value'], list(df13['country'])))\n",
    "df13['indicator_cleaned'] = pd.DataFrame(map(lambda x: x['value'], list(df13['indicator'])))\n",
    "# I now want to drop duplicates to see which countries I have values for.\n",
    "df13 = df13.dropna()"
   ]
  },
  {
   "cell_type": "code",
   "execution_count": 36,
   "metadata": {
    "collapsed": false
   },
   "outputs": [
    {
     "data": {
      "text/plain": [
       "<matplotlib.collections.PathCollection at 0x12a501810>"
      ]
     },
     "execution_count": 36,
     "metadata": {},
     "output_type": "execute_result"
    },
    {
     "data": {
      "image/png": "[encoded data removed]",
      "text/plain": [
       "<matplotlib.figure.Figure at 0x121d69cd0>"
      ]
     },
     "metadata": {},
     "output_type": "display_data"
    }
   ],
   "source": [
    "df13world = df13[df13['country_cleaned'] == 'World']\n",
    "plt.scatter(df13world['date'], df13world['value'])"
   ]
  },
  {
   "cell_type": "code",
   "execution_count": null,
   "metadata": {
    "collapsed": true
   },
   "outputs": [],
   "source": [
    "'''Looking at the above graphs of urban and city population, I am not surprised that there has been\n",
    "a decrease in the rural population.'''"
   ]
  },
  {
   "cell_type": "code",
   "execution_count": 37,
   "metadata": {
    "collapsed": true
   },
   "outputs": [],
   "source": [
    "# I now want to look at the world population in total numbers.\n",
    "response = requests.get(\"http://api.worldbank.org/countries/indicators/SP.RUR.TOTL?per_page=13000&date=1960:2016&format=json\")\n",
    "data = response.json()\n",
    "df14 = pd.read_json(json.dumps(data[1]))\n",
    "# I need to clean the DataFrame, as per usual\n",
    "df14['country_cleaned'] = pd.DataFrame(map(lambda x: x['value'], list(df14['country'])))\n",
    "df14['indicator_cleaned'] = pd.DataFrame(map(lambda x: x['value'], list(df14['indicator'])))\n",
    "# I now want to drop duplicates to see which countries I have values for.\n",
    "df14 = df14.dropna()"
   ]
  },
  {
   "cell_type": "code",
   "execution_count": 38,
   "metadata": {
    "collapsed": false
   },
   "outputs": [
    {
     "data": {
      "text/plain": [
       "<matplotlib.collections.PathCollection at 0x128b59810>"
      ]
     },
     "execution_count": 38,
     "metadata": {},
     "output_type": "execute_result"
    },
    {
     "data": {
      "image/png": "[encoded data removed]",
      "text/plain": [
       "<matplotlib.figure.Figure at 0x12a5d2050>"
      ]
     },
     "metadata": {},
     "output_type": "display_data"
    }
   ],
   "source": [
    "df14world = df14[df14['country_cleaned'] == 'World']\n",
    "plt.scatter(df14world['date'], df14world['value'])"
   ]
  },
  {
   "cell_type": "code",
   "execution_count": null,
   "metadata": {
    "collapsed": true
   },
   "outputs": [],
   "source": [
    "'''As the population increased, the rural population increased as well. However, as a percentage of all\n",
    "the population, they have decrease.'''\n",
    "# For rural poverty gap at national poverty lines there's no information for the world."
   ]
  },
  {
   "cell_type": "code",
   "execution_count": 41,
   "metadata": {
    "collapsed": true
   },
   "outputs": [],
   "source": [
    "# Urban population as % of total\n",
    "response = requests.get(\"http://api.worldbank.org/countries/indicators/SP.URB.TOTL.IN.ZS?per_page=13000&date=1960:2016&format=json\")\n",
    "data = response.json()\n",
    "df15 = pd.read_json(json.dumps(data[1]))\n",
    "# I need to clean the DataFrame, as per usual\n",
    "df15['country_cleaned'] = pd.DataFrame(map(lambda x: x['value'], list(df15['country'])))\n",
    "df15['indicator_cleaned'] = pd.DataFrame(map(lambda x: x['value'], list(df15['indicator'])))\n",
    "# I now want to drop duplicates to see which countries I have values for.\n",
    "df15 = df15.dropna()"
   ]
  },
  {
   "cell_type": "code",
   "execution_count": 42,
   "metadata": {
    "collapsed": false
   },
   "outputs": [
    {
     "data": {
      "text/plain": [
       "<matplotlib.collections.PathCollection at 0x12818c250>"
      ]
     },
     "execution_count": 42,
     "metadata": {},
     "output_type": "execute_result"
    },
    {
     "data": {
      "image/png": "[encoded data removed]",
      "text/plain": [
       "<matplotlib.figure.Figure at 0x128a25590>"
      ]
     },
     "metadata": {},
     "output_type": "display_data"
    }
   ],
   "source": [
    "df15world = df15[df15['country_cleaned'] == 'World']\n",
    "plt.scatter(df15world['date'], df15world['value'])"
   ]
  },
  {
   "cell_type": "code",
   "execution_count": null,
   "metadata": {
    "collapsed": true
   },
   "outputs": [],
   "source": [
    "'''Again, to be expected.'''"
   ]
  },
  {
   "cell_type": "code",
   "execution_count": 43,
   "metadata": {
    "collapsed": true
   },
   "outputs": [],
   "source": [
    "response = requests.get(\"http://api.worldbank.org/countries/indicators/SP.URB.TOTL?per_page=13000&date=1960:2016&format=json\")\n",
    "data = response.json()\n",
    "df16 = pd.read_json(json.dumps(data[1]))\n",
    "# I need to clean the DataFrame, as per usual\n",
    "df16['country_cleaned'] = pd.DataFrame(map(lambda x: x['value'], list(df16['country'])))\n",
    "df16['indicator_cleaned'] = pd.DataFrame(map(lambda x: x['value'], list(df16['indicator'])))\n",
    "# I now want to drop duplicates to see which countries I have values for.\n",
    "df16 = df16.dropna()"
   ]
  },
  {
   "cell_type": "code",
   "execution_count": 44,
   "metadata": {
    "collapsed": false
   },
   "outputs": [
    {
     "data": {
      "text/plain": [
       "<matplotlib.collections.PathCollection at 0x127e05a10>"
      ]
     },
     "execution_count": 44,
     "metadata": {},
     "output_type": "execute_result"
    },
    {
     "data": {
      "image/png": "[encoded data removed]",
      "text/plain": [
       "<matplotlib.figure.Figure at 0x128e70090>"
      ]
     },
     "metadata": {},
     "output_type": "display_data"
    }
   ],
   "source": [
    "df16world = df16[df16['country_cleaned'] == 'World']\n",
    "plt.scatter(df16world['date'], df16world['value'])"
   ]
  },
  {
   "cell_type": "code",
   "execution_count": null,
   "metadata": {
    "collapsed": true
   },
   "outputs": [],
   "source": []
  }
 ],
 "metadata": {
  "kernelspec": {
   "display_name": "Python 2",
   "language": "python",
   "name": "python2"
  },
  "language_info": {
   "codemirror_mode": {
    "name": "ipython",
    "version": 2
   },
   "file_extension": ".py",
   "mimetype": "text/x-python",
   "name": "python",
   "nbconvert_exporter": "python",
   "pygments_lexer": "ipython2",
   "version": "2.7.11"
  }
 },
 "nbformat": 4,
 "nbformat_minor": 0
}
